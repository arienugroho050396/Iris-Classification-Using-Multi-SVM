{
 "cells": [
  {
   "cell_type": "markdown",
   "metadata": {
    "id": "-qDsm6BnME2X"
   },
   "source": [
    "#  Support Vector Machine (SVM) multi"
   ]
  },
  {
   "cell_type": "markdown",
   "metadata": {
    "id": "sQAGcnK3MOS7"
   },
   "source": [
    "### 1) Import Data\n",
    "\n",
    "Unduh dataset yang akan digunakan pada tugas kali ini. Anda dapat menggunakan aplikasi wget untuk mendowload dataset dan menyimpannya dalam Google Colab. Jalankan cell di bawah ini untuk mengunduh dataset"
   ]
  },
  {
   "cell_type": "markdown",
   "metadata": {
    "id": "SJy4t3lIOgGp"
   },
   "source": [
    "Setelah dataset berhasil diunduh, langkah berikutnya adalah membaca dataset dengan memanfaatkan fungsi **readcsv** dari library pandas. Lakukan pembacaan berkas csv ke dalam dataframe dengan nama **data** menggunakan fungsi **readcsv**. Jangan lupa untuk melakukan import library pandas terlebih dahulu\n"
   ]
  },
  {
   "cell_type": "code",
   "execution_count": 1,
   "metadata": {
    "id": "mdhbxk_2OzbB",
    "scrolled": true
   },
   "outputs": [],
   "source": [
    "import pandas as pd\n",
    "import numpy as np\n",
    "data = pd.read_csv('day1 IRIS.csv')"
   ]
  },
  {
   "cell_type": "markdown",
   "metadata": {
    "id": "w6NfrIDTOK38"
   },
   "source": [
    "\n",
    "\n",
    "Cek isi dataset Anda dengan menggunakan perintah **head()**"
   ]
  },
  {
   "cell_type": "code",
   "execution_count": 2,
   "metadata": {
    "colab": {
     "base_uri": "https://localhost:8080/",
     "height": 206
    },
    "id": "Uaiaj796OFH3",
    "outputId": "fb00d8f9-d2fb-4342-d24d-7743bfe18d4b"
   },
   "outputs": [
    {
     "data": {
      "text/html": [
       "<div>\n",
       "<style scoped>\n",
       "    .dataframe tbody tr th:only-of-type {\n",
       "        vertical-align: middle;\n",
       "    }\n",
       "\n",
       "    .dataframe tbody tr th {\n",
       "        vertical-align: top;\n",
       "    }\n",
       "\n",
       "    .dataframe thead th {\n",
       "        text-align: right;\n",
       "    }\n",
       "</style>\n",
       "<table border=\"1\" class=\"dataframe\">\n",
       "  <thead>\n",
       "    <tr style=\"text-align: right;\">\n",
       "      <th></th>\n",
       "      <th>sepal_length</th>\n",
       "      <th>sepal_width</th>\n",
       "      <th>petal_length</th>\n",
       "      <th>petal_width</th>\n",
       "      <th>species</th>\n",
       "    </tr>\n",
       "  </thead>\n",
       "  <tbody>\n",
       "    <tr>\n",
       "      <th>0</th>\n",
       "      <td>5.1</td>\n",
       "      <td>3.5</td>\n",
       "      <td>1.4</td>\n",
       "      <td>0.2</td>\n",
       "      <td>Iris-setosa</td>\n",
       "    </tr>\n",
       "    <tr>\n",
       "      <th>1</th>\n",
       "      <td>4.9</td>\n",
       "      <td>3.0</td>\n",
       "      <td>1.4</td>\n",
       "      <td>0.2</td>\n",
       "      <td>Iris-setosa</td>\n",
       "    </tr>\n",
       "    <tr>\n",
       "      <th>2</th>\n",
       "      <td>4.7</td>\n",
       "      <td>3.2</td>\n",
       "      <td>1.3</td>\n",
       "      <td>0.2</td>\n",
       "      <td>Iris-setosa</td>\n",
       "    </tr>\n",
       "    <tr>\n",
       "      <th>3</th>\n",
       "      <td>4.6</td>\n",
       "      <td>3.1</td>\n",
       "      <td>1.5</td>\n",
       "      <td>0.2</td>\n",
       "      <td>Iris-setosa</td>\n",
       "    </tr>\n",
       "    <tr>\n",
       "      <th>4</th>\n",
       "      <td>5.0</td>\n",
       "      <td>3.6</td>\n",
       "      <td>1.4</td>\n",
       "      <td>0.2</td>\n",
       "      <td>Iris-setosa</td>\n",
       "    </tr>\n",
       "  </tbody>\n",
       "</table>\n",
       "</div>"
      ],
      "text/plain": [
       "   sepal_length  sepal_width  petal_length  petal_width      species\n",
       "0           5.1          3.5           1.4          0.2  Iris-setosa\n",
       "1           4.9          3.0           1.4          0.2  Iris-setosa\n",
       "2           4.7          3.2           1.3          0.2  Iris-setosa\n",
       "3           4.6          3.1           1.5          0.2  Iris-setosa\n",
       "4           5.0          3.6           1.4          0.2  Iris-setosa"
      ]
     },
     "execution_count": 2,
     "metadata": {},
     "output_type": "execute_result"
    }
   ],
   "source": [
    "data.head()"
   ]
  },
  {
   "cell_type": "code",
   "execution_count": 3,
   "metadata": {
    "colab": {
     "base_uri": "https://localhost:8080/"
    },
    "id": "3K0iKdP2-YZ0",
    "outputId": "694f5662-7dee-4977-e3d9-a5b80319960e"
   },
   "outputs": [
    {
     "data": {
      "text/plain": [
       "Iris-setosa        50\n",
       "Iris-versicolor    50\n",
       "Iris-virginica     50\n",
       "Name: species, dtype: int64"
      ]
     },
     "execution_count": 3,
     "metadata": {},
     "output_type": "execute_result"
    }
   ],
   "source": [
    "data['species'].value_counts()"
   ]
  },
  {
   "cell_type": "markdown",
   "metadata": {
    "id": "lfi1uHIxPdDe"
   },
   "source": [
    "## 2) Membagi data menjadi data latih dan data uji\n",
    "\n",
    "Metode pembelajaran mesin memerlukan dua jenis data :\n",
    "\n",
    "\n",
    "1.   Data latih : Digunakan untuk proses training metode klasifikasi\n",
    "2.   Data uji : Digunakan untuk proses evaluasi metode klasifikasi\n",
    "\n",
    "Data uji dan data latih perlu dibuat terpisah (mutualy exclusive) agar hasil evaluasi lebih akurat.\n",
    "\n",
    "Data uji dan data latih dapat dibuat dengan cara membagi dataset dengan rasio tertentu, misalnya 80% data latih dan 20% data uji.\n",
    "\n",
    "Library Scikit-learn memiliki fungsi [train_test_split](https://scikit-learn.org/stable/modules/generated/sklearn.model_selection.train_test_split.html) pada modul **model_selection** untuk membagi dataset menjadi data latih dan data uji. Bagilah dataset anda menjadi dua, yaitu **data_latih** dan **data_uji**.\n"
   ]
  },
  {
   "cell_type": "code",
   "execution_count": 4,
   "metadata": {
    "id": "jJjfXgfmPTlU"
   },
   "outputs": [],
   "source": [
    "from sklearn.model_selection import train_test_split\n",
    "data_latih,data_uji = train_test_split(data,test_size=0.2)"
   ]
  },
  {
   "cell_type": "markdown",
   "metadata": {
    "id": "tBhcsUDYfw2q"
   },
   "source": [
    "Tampilkan banyaknya data pada **data_latih** dan **data_uji**. Seharusnya **data_latih** terdiri dari 120 data, dan **data_uji** terdiri dari 30 data"
   ]
  },
  {
   "cell_type": "code",
   "execution_count": 5,
   "metadata": {
    "colab": {
     "base_uri": "https://localhost:8080/"
    },
    "id": "6OtySD4efmmQ",
    "outputId": "22222ec3-304e-4407-e29e-6b26d9d65be9"
   },
   "outputs": [
    {
     "name": "stdout",
     "output_type": "stream",
     "text": [
      "data uji 30\n",
      "data latih 120\n"
     ]
    }
   ],
   "source": [
    "print(\"data uji\",data_uji.shape[0])\n",
    "print(\"data latih\",data_latih.shape[0])"
   ]
  },
  {
   "cell_type": "markdown",
   "metadata": {
    "id": "wgTwVS4ofSj4"
   },
   "source": [
    "Pisahkan label/kelas dari data uji menjadi sebuah variabel bernama **label_uji**"
   ]
  },
  {
   "cell_type": "code",
   "execution_count": 6,
   "metadata": {
    "id": "9h3Xynf-fcf5"
   },
   "outputs": [],
   "source": [
    "label_uji = data_uji.pop('species')"
   ]
  },
  {
   "cell_type": "markdown",
   "metadata": {
    "id": "ub4I9YOp-pWS"
   },
   "source": [
    "## 3) Pembentukan data latih one-vs-rest\n",
    "\n",
    "Metode one-vs-rest memerlukan tiga jenis data latih yang diperlukan untuk melatih tiga SVM yang berbeda pada dataset Iris. Fungsi **buat_trainingset** digunakan untuk membentuk tiga dataset tersebut."
   ]
  },
  {
   "cell_type": "code",
   "execution_count": 7,
   "metadata": {
    "id": "14SDqJcZAXZc"
   },
   "outputs": [],
   "source": [
    "def buat_trainingset(dataset):\n",
    "  trainingset = {}\n",
    "  kolom_kelas = dataset.columns[-1]\n",
    "  list_kelas = dataset[kolom_kelas].unique()\n",
    "  print(kolom_kelas)\n",
    "  print(list_kelas)\n",
    "  for kelas in list_kelas:\n",
    "    data_temp = dataset.copy(deep=True)\n",
    "    data_temp[kolom_kelas]=data_temp[kolom_kelas].map({kelas:1})\n",
    "    data_temp[kolom_kelas]=data_temp[kolom_kelas].fillna(-1)\n",
    "    trainingset[kelas]=data_temp\n",
    "  return trainingset"
   ]
  },
  {
   "cell_type": "markdown",
   "metadata": {
    "id": "OJOAgFQXJXa7"
   },
   "source": [
    "Gunakan fungsi **buat_trainingset** untuk membentuk data latih dengan nama variabel **trainingset** yang akan digunakan pada proses training. "
   ]
  },
  {
   "cell_type": "code",
   "execution_count": 8,
   "metadata": {
    "colab": {
     "base_uri": "https://localhost:8080/"
    },
    "id": "JKYH8PKq-sR1",
    "outputId": "8ca73249-a1f4-4164-fc96-a76244e8bdfc"
   },
   "outputs": [
    {
     "name": "stdout",
     "output_type": "stream",
     "text": [
      "species\n",
      "['Iris-versicolor' 'Iris-setosa' 'Iris-virginica']\n"
     ]
    }
   ],
   "source": [
    "trainingset = buat_trainingset(data_latih)  "
   ]
  },
  {
   "cell_type": "markdown",
   "metadata": {
    "id": "ibORqyA-KOPh"
   },
   "source": [
    "Tampilkan isi **trainingset** agar Anda dapat memahami struktur dari variabel tersebut."
   ]
  },
  {
   "cell_type": "code",
   "execution_count": 9,
   "metadata": {
    "colab": {
     "base_uri": "https://localhost:8080/"
    },
    "id": "-g21oKqbKR4X",
    "outputId": "c5cf2ceb-3748-434d-c366-e49fad51f7a9"
   },
   "outputs": [
    {
     "name": "stdout",
     "output_type": "stream",
     "text": [
      "{'Iris-versicolor':      sepal_length  sepal_width  petal_length  petal_width  species\n",
      "79            5.7          2.6           3.5          1.0      1.0\n",
      "39            5.1          3.4           1.5          0.2     -1.0\n",
      "24            4.8          3.4           1.9          0.2     -1.0\n",
      "90            5.5          2.6           4.4          1.2      1.0\n",
      "66            5.6          3.0           4.5          1.5      1.0\n",
      "..            ...          ...           ...          ...      ...\n",
      "4             5.0          3.6           1.4          0.2     -1.0\n",
      "105           7.6          3.0           6.6          2.1     -1.0\n",
      "69            5.6          2.5           3.9          1.1      1.0\n",
      "89            5.5          2.5           4.0          1.3      1.0\n",
      "53            5.5          2.3           4.0          1.3      1.0\n",
      "\n",
      "[120 rows x 5 columns], 'Iris-setosa':      sepal_length  sepal_width  petal_length  petal_width  species\n",
      "79            5.7          2.6           3.5          1.0     -1.0\n",
      "39            5.1          3.4           1.5          0.2      1.0\n",
      "24            4.8          3.4           1.9          0.2      1.0\n",
      "90            5.5          2.6           4.4          1.2     -1.0\n",
      "66            5.6          3.0           4.5          1.5     -1.0\n",
      "..            ...          ...           ...          ...      ...\n",
      "4             5.0          3.6           1.4          0.2      1.0\n",
      "105           7.6          3.0           6.6          2.1     -1.0\n",
      "69            5.6          2.5           3.9          1.1     -1.0\n",
      "89            5.5          2.5           4.0          1.3     -1.0\n",
      "53            5.5          2.3           4.0          1.3     -1.0\n",
      "\n",
      "[120 rows x 5 columns], 'Iris-virginica':      sepal_length  sepal_width  petal_length  petal_width  species\n",
      "79            5.7          2.6           3.5          1.0     -1.0\n",
      "39            5.1          3.4           1.5          0.2     -1.0\n",
      "24            4.8          3.4           1.9          0.2     -1.0\n",
      "90            5.5          2.6           4.4          1.2     -1.0\n",
      "66            5.6          3.0           4.5          1.5     -1.0\n",
      "..            ...          ...           ...          ...      ...\n",
      "4             5.0          3.6           1.4          0.2     -1.0\n",
      "105           7.6          3.0           6.6          2.1      1.0\n",
      "69            5.6          2.5           3.9          1.1     -1.0\n",
      "89            5.5          2.5           4.0          1.3     -1.0\n",
      "53            5.5          2.3           4.0          1.3     -1.0\n",
      "\n",
      "[120 rows x 5 columns]}\n"
     ]
    }
   ],
   "source": [
    "print(trainingset)"
   ]
  },
  {
   "cell_type": "markdown",
   "metadata": {
    "id": "Ikiam_bv8sM1"
   },
   "source": [
    "## 4) Pembentukan SVM Biner"
   ]
  },
  {
   "cell_type": "markdown",
   "metadata": {
    "id": "t6-boIzy9UJ2"
   },
   "source": [
    "Tujuan dari algoritma SVM adalah meminimalkan nilai *cost function*. Penghitungan nilai minimal dapat dapat dilakukan dengan menghitung nilai gradien dari *cost function* terlebih dahulu. Fungsi di bawah ini berguna untuk menghitung nilai gradien cost function"
   ]
  },
  {
   "cell_type": "code",
   "execution_count": 10,
   "metadata": {
    "id": "Kq63208e_7b0"
   },
   "outputs": [],
   "source": [
    "def hitung_cost_gradient(W,X,Y,regularization):\n",
    "    jarak = 1 - (Y* np.dot(X,W))\n",
    "    dw = np.zeros(len(W))\n",
    "    if max(0,jarak)==0:\n",
    "        di=W\n",
    "    else:\n",
    "        di = W - (regularization * Y*X)\n",
    "    dw += di\n",
    "    return dw"
   ]
  },
  {
   "cell_type": "markdown",
   "metadata": {
    "id": "sYGiwWxO9z1j"
   },
   "source": [
    "Terdapat beberapa cara untuk meminimalkan nilai *cost function*, salah satunya menggunakan Stochastic Gradient Descent (SGD) untuk melakukan minimasi. Minimasi *cost function* merupakan inti dari algoritma SVM. Fungsi di bawah ini merupakan implementasi algoritma SGD "
   ]
  },
  {
   "cell_type": "code",
   "execution_count": 11,
   "metadata": {
    "id": "ERaoSW0kBCVA"
   },
   "outputs": [],
   "source": [
    "from sklearn.utils import shuffle\n",
    "\n",
    "def sgd(data_latih,label_latih,learning_rate = 0.000001,max_epoch=1000,regularization=10000):\n",
    "  data_latih = data_latih.to_numpy()\n",
    "  label_latih = label_latih.to_numpy()\n",
    "  bobot = np.zeros(data_latih.shape[1])\n",
    "  for epoch in range(1,max_epoch):\n",
    "    X,Y =shuffle(data_latih,label_latih,random_state=101)\n",
    "    for index,x in enumerate(X):\n",
    "      delta=hitung_cost_gradient(bobot,x,Y[index],regularization)\n",
    "      bobot = bobot - (learning_rate * delta)\n",
    "  return bobot"
   ]
  },
  {
   "cell_type": "markdown",
   "metadata": {
    "id": "e0mWl4NsNsLr"
   },
   "source": [
    "## 5) Proses Training"
   ]
  },
  {
   "cell_type": "markdown",
   "metadata": {
    "id": "FaTWcv7dAu7t"
   },
   "source": [
    "Proses training dilakukan dengan memanggil fungsi **sgd** berulang kali sesuai banyaknya kelas yang ada pada data. Dengan demikian, proses training menghasilkan bobot sebanyak kelas yang ada pada dataset. Buatlah fungsi bernama **training** yang digunakan untuk melakukan proses training one-vs-rest"
   ]
  },
  {
   "cell_type": "code",
   "execution_count": 12,
   "metadata": {
    "id": "smXjlFIRFRxz"
   },
   "outputs": [],
   "source": [
    "def training(trainingset):\n",
    "  list_kelas = trainingset.keys()\n",
    "  w = {}\n",
    "  for kelas in list_kelas:\n",
    "    data_latih = trainingset[kelas]\n",
    "    label_latih = data_latih.pop(data_latih.columns[-1])\n",
    "    w[kelas] = sgd(data_latih,label_latih)\n",
    "  return w"
   ]
  },
  {
   "cell_type": "markdown",
   "metadata": {
    "id": "pLiw-ZCVPy6J"
   },
   "source": [
    "Lakukan proses training dengan memanggil fungsi **training** dan menempatkan hasilnya pada variabel **W**"
   ]
  },
  {
   "cell_type": "code",
   "execution_count": 13,
   "metadata": {
    "id": "cxO4ztvWGFlb"
   },
   "outputs": [],
   "source": [
    "W = training(trainingset)"
   ]
  },
  {
   "cell_type": "markdown",
   "metadata": {
    "id": "Utg8hqFdQJDe"
   },
   "source": [
    "Tampilkan isi variabel **W**"
   ]
  },
  {
   "cell_type": "code",
   "execution_count": 14,
   "metadata": {
    "colab": {
     "base_uri": "https://localhost:8080/"
    },
    "id": "okhxKfw9C31G",
    "outputId": "472421b1-94f9-425f-89a0-5079ee25011a"
   },
   "outputs": [
    {
     "name": "stdout",
     "output_type": "stream",
     "text": [
      "{'Iris-versicolor': array([ 1.17846984, -2.6543843 ,  1.48164509, -4.53367935]), 'Iris-setosa': array([ 0.16511501,  0.71772235, -1.02092457, -0.54057692]), 'Iris-virginica': array([-2.76064145, -5.27483689,  4.65238406,  6.18513996])}\n"
     ]
    }
   ],
   "source": [
    "print(W)"
   ]
  },
  {
   "cell_type": "markdown",
   "metadata": {
    "id": "M6UR7tpm1YQ_"
   },
   "source": [
    "## 6) Proses *testing* biner\n",
    "Proses testing dilakukan dengan menghitung nilai [*dot product*](https://en.wikipedia.org/wiki/Dot_product) antara bobot hasil training dengan data uji. Kelas data ditentukan berdasarkan tanda (positif atau negatif) dari hasil dot product tersebut. Fungsi berikut mengimplementasikan proses testing"
   ]
  },
  {
   "cell_type": "code",
   "execution_count": 15,
   "metadata": {
    "id": "GFrDgAtU7umG"
   },
   "outputs": [],
   "source": [
    "def testing(W,data_uji):\n",
    "    prediksi = np.array([])\n",
    "    for i in range(data_uji.shape[0]):\n",
    "        y_prediksi = np.sign(np.dot(W,data_uji.to_numpy()[i]))\n",
    "        prediksi = np.append(prediksi,y_prediksi)\n",
    "    return prediksi"
   ]
  },
  {
   "cell_type": "markdown",
   "metadata": {
    "id": "ZiDmUxVBuo42"
   },
   "source": [
    "## TUGAS\n",
    "Pada tugas kali ini Anda mendefinisikan proses testing pada metode one-vs-rest. Proses testing pada metode one-vs-rest dilakukan dengan memanggil proses testing biner untuk setiap **value** pada dictionary **W**. Kelas pada sebuah data latih adalah **key** pada dictionary **W** yang memiliki nilai prediksi **1**. Lengkapi fungsi **testing_onevsrest** di bawah ini. Output dari fungsi tersebut adalah list nama kelas hasil prediksi."
   ]
  },
  {
   "cell_type": "code",
   "execution_count": 16,
   "metadata": {
    "id": "yVQ5YesFGLH5"
   },
   "outputs": [],
   "source": [
    "\n",
    "def testing_onevsrest(W,data_uji):\n",
    "\n",
    "  list_kelas = W.keys()\n",
    "  biner = pd.DataFrame(columns=W.keys())\n",
    "  for kelas in list_kelas:\n",
    "    biner[kelas]= testing(W[kelas],data_uji) \n",
    "  kelas_prediksi= biner.idxmax(1)\n",
    "\n",
    "  print('Hasil Prediksi:\\n',kelas_prediksi)\n",
    "\n",
    "  return kelas_prediksi"
   ]
  },
  {
   "cell_type": "code",
   "execution_count": 17,
   "metadata": {
    "id": "gG4hTpFjiGqo"
   },
   "outputs": [
    {
     "name": "stdout",
     "output_type": "stream",
     "text": [
      "Hasil Prediksi:\n",
      " 0     Iris-versicolor\n",
      "1      Iris-virginica\n",
      "2         Iris-setosa\n",
      "3     Iris-versicolor\n",
      "4         Iris-setosa\n",
      "5     Iris-versicolor\n",
      "6      Iris-virginica\n",
      "7     Iris-versicolor\n",
      "8     Iris-versicolor\n",
      "9      Iris-virginica\n",
      "10    Iris-versicolor\n",
      "11        Iris-setosa\n",
      "12        Iris-setosa\n",
      "13     Iris-virginica\n",
      "14    Iris-versicolor\n",
      "15     Iris-virginica\n",
      "16    Iris-versicolor\n",
      "17     Iris-virginica\n",
      "18        Iris-setosa\n",
      "19        Iris-setosa\n",
      "20     Iris-virginica\n",
      "21    Iris-versicolor\n",
      "22    Iris-versicolor\n",
      "23        Iris-setosa\n",
      "24    Iris-versicolor\n",
      "25        Iris-setosa\n",
      "26     Iris-virginica\n",
      "27        Iris-setosa\n",
      "28    Iris-versicolor\n",
      "29     Iris-virginica\n",
      "dtype: object\n"
     ]
    }
   ],
   "source": [
    "predict = testing_onevsrest(W,data_uji)"
   ]
  },
  {
   "cell_type": "markdown",
   "metadata": {
    "id": "wBeuhb2Vmimg"
   },
   "source": [
    "Berapa banyak data latih yang berhasil diprediksi dengan benar?"
   ]
  },
  {
   "cell_type": "code",
   "execution_count": 18,
   "metadata": {
    "id": "0gAyDrOVjxVU"
   },
   "outputs": [],
   "source": [
    "prediks = predict.to_numpy()"
   ]
  },
  {
   "cell_type": "code",
   "execution_count": 19,
   "metadata": {
    "scrolled": true
   },
   "outputs": [
    {
     "name": "stdout",
     "output_type": "stream",
     "text": [
      "26\n"
     ]
    }
   ],
   "source": [
    "print(sum(prediks==label_uji))"
   ]
  },
  {
   "cell_type": "code",
   "execution_count": null,
   "metadata": {},
   "outputs": [],
   "source": []
  }
 ],
 "metadata": {
  "colab": {
   "collapsed_sections": [
    "lfi1uHIxPdDe",
    "Ikiam_bv8sM1",
    "e0mWl4NsNsLr",
    "M6UR7tpm1YQ_",
    "ZiDmUxVBuo42"
   ],
   "name": "CAP multi SVM day1    .ipynb",
   "provenance": []
  },
  "kernelspec": {
   "display_name": "Python 3 (ipykernel)",
   "language": "python",
   "name": "python3"
  },
  "language_info": {
   "codemirror_mode": {
    "name": "ipython",
    "version": 3
   },
   "file_extension": ".py",
   "mimetype": "text/x-python",
   "name": "python",
   "nbconvert_exporter": "python",
   "pygments_lexer": "ipython3",
   "version": "3.8.12"
  }
 },
 "nbformat": 4,
 "nbformat_minor": 1
}
